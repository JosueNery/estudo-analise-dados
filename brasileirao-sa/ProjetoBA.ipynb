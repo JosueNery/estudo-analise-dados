{
  "cells": [
    {
      "cell_type": "markdown",
      "metadata": {
        "colab_type": "text",
        "id": "view-in-github"
      },
      "source": [
        "<a href=\"https://colab.research.google.com/drive/1z78Jr882qr1cLGaN0b1vwfCkct3g5ObB?usp=sharing\" target=\"_blank\"><img src=\"https://colab.research.google.com/assets/colab-badge.svg\" alt=\"Open In Colab\"/></a>"
      ]
    },
    {
      "cell_type": "code",
      "execution_count": null,
      "metadata": {
        "id": "oLUynoWRrY4N"
      },
      "outputs": [],
      "source": [
        "import pandas as pd\n",
        "import numpy as np\n",
        "import requests\n",
        "import json"
      ]
    },
    {
      "cell_type": "code",
      "execution_count": null,
      "metadata": {
        "id": "K81TAmQVX6yE"
      },
      "outputs": [],
      "source": [
        "clubes = pd.read_csv('/content/drive/MyDrive/ProjetoSA/2020/CIDADES.csv')\n",
        "clubes['Times'] = clubes['Times'].str.replace(r'\\(|[0-9]|\\)|[.]', '')"
      ]
    },
    {
      "cell_type": "markdown",
      "metadata": {
        "id": "jeBrmG23YZeW"
      },
      "source": [
        "### Funções"
      ]
    },
    {
      "cell_type": "code",
      "execution_count": null,
      "metadata": {
        "id": "HxQzuvH5UqA6"
      },
      "outputs": [],
      "source": [
        "\n",
        "def adcCidades (dataf, col):\n",
        "  z = 0\n",
        "  while z < 38:\n",
        "    x = 0\n",
        "    while x < 35:\n",
        "      if clubes['Times'][x] == dataf[col][z]:\n",
        "        dataf[col][z] = clubes['Cidade'][x]\n",
        "        x = 35\n",
        "      else:\n",
        "        x += 1\n",
        "    z += 1\n",
        "  return dataf\n",
        "\n",
        "def apiMaps (source, dest):\n",
        "    api_key =''  #necessario possuir uma key da api maps - distancematrix\n",
        "    url ='https://maps.googleapis.com/maps/api/distancematrix/json?'\n",
        "    r = requests.get(url + 'origins=' + source +\n",
        "                     '&destinations=' + dest +\n",
        "                     '&key=' + api_key)\n",
        "    return r.json()\n",
        "\n",
        "def distancia (apiM):\n",
        "  if apiM != 0:\n",
        "    for row in apiM['rows']:\n",
        "      for distance in row['elements']:\n",
        "        for tipo,text in distance['distance'].items():\n",
        "          if tipo == 'text':\n",
        "            return text\n",
        "  else:\n",
        "    return 0\n",
        "\n",
        "def mult (km):\n",
        "  for index, value in km.items():\n",
        "    km[index] = float(value) * 2\n",
        "  return km\n",
        "\n",
        "def soma (km):\n",
        "  soma = 0\n",
        "  for index, value in km.items():\n",
        "    soma = soma + value\n",
        "  return soma\n",
        "\n",
        "def insertKm (elementos, cidade):\n",
        "  tamanho = len(elementos.index)\n",
        "  i = 0\n",
        "  while i < tamanho:\n",
        "    source = elementos['TIME_CASA'][i]\n",
        "    dest = elementos['TIME_VISITANTE'][i]\n",
        "    if source == cidade:\n",
        "      elementos['km'][i] = '0'\n",
        "      i += 1\n",
        "    else:\n",
        "      elementos['km'][i] = distancia(apiMaps (source, dest))\n",
        "      i += 1\n",
        "  elementos['km'] = elementos['km'].str.replace(r'\\s|[a-z]|[,]', '')\n",
        "  return elementos\n"
      ]
    },
    {
      "cell_type": "markdown",
      "metadata": {
        "id": "kuTsxlBnY3hK"
      },
      "source": [
        "### Leitura"
      ]
    },
    {
      "cell_type": "code",
      "execution_count": null,
      "metadata": {
        "id": "wbiz_thYzGaC"
      },
      "outputs": [],
      "source": [
        "df = pd.read_csv('/content/drive/MyDrive/ProjetoSA/AA.csv')\n",
        "df['TIME_CASA'] = df['TIME_CASA'].str.replace(r'\\(|[0-9]|\\)|[.]', '')\n",
        "df['TIME_VISITANTE'] = df['TIME_VISITANTE'].str.replace(r'\\(|[0-9]|\\)|[.]', '')\n",
        "df = adcCidades (df, 'TIME_CASA')\n",
        "df = adcCidades (df, 'TIME_VISITANTE')\n",
        "df.insert(2, \"km\", 0)"
      ]
    },
    {
      "cell_type": "code",
      "execution_count": null,
      "metadata": {
        "id": "Oknf6CRtbOzv"
      },
      "outputs": [],
      "source": [
        "df3 = pd.read_csv('/content/drive/MyDrive/ProjetoSA/AB.csv')\n",
        "df3['TIME_CASA'] = df3['TIME_CASA'].str.replace(r'\\(|[0-9]|\\)|[.]', '')\n",
        "df3['TIME_VISITANTE'] = df3['TIME_VISITANTE'].str.replace(r'\\(|[0-9]|\\)|[.]', '')\n",
        "df3 = adcCidades (df3, 'TIME_CASA')\n",
        "df3 = adcCidades (df3, 'TIME_VISITANTE')\n",
        "df3.insert(2, \"km\", 0)"
      ]
    },
    {
      "cell_type": "code",
      "execution_count": null,
      "metadata": {
        "id": "yNhzWkwcbPKl"
      },
      "outputs": [],
      "source": [
        "df4 = pd.read_csv('/content/drive/MyDrive/ProjetoSA/AC.csv')\n",
        "df4['TIME_CASA'] = df4['TIME_CASA'].str.replace(r'\\(|[0-9]|\\)|[.]', '')\n",
        "df4['TIME_VISITANTE'] = df4['TIME_VISITANTE'].str.replace(r'\\(|[0-9]|\\)|[.]', '')\n",
        "df4 = adcCidades (df4, 'TIME_CASA')\n",
        "df4 = adcCidades (df4, 'TIME_VISITANTE')\n",
        "df4.insert(2, \"km\", 0)"
      ]
    },
    {
      "cell_type": "code",
      "execution_count": null,
      "metadata": {
        "id": "fKwu4gRTbPSa"
      },
      "outputs": [],
      "source": [
        "df5 = pd.read_csv('/content/drive/MyDrive/ProjetoSA/AD.csv')\n",
        "df5['TIME_CASA'] = df5['TIME_CASA'].str.replace(r'\\(|[0-9]|\\)|[.]', '')\n",
        "df5['TIME_VISITANTE'] = df5['TIME_VISITANTE'].str.replace(r'\\(|[0-9]|\\)|[.]', '')\n",
        "df5 = adcCidades (df5, 'TIME_CASA')\n",
        "df5 = adcCidades (df5, 'TIME_VISITANTE')\n",
        "df5.insert(2, \"km\", 0)"
      ]
    },
    {
      "cell_type": "markdown",
      "metadata": {
        "id": "OeVkaDSQYlEQ"
      },
      "source": [
        "## Chamadas"
      ]
    },
    {
      "cell_type": "markdown",
      "metadata": {
        "id": "z7A6TFqOadRY"
      },
      "source": [
        "### df2"
      ]
    },
    {
      "cell_type": "code",
      "execution_count": null,
      "metadata": {
        "id": "FlNTHnJDuNmu"
      },
      "outputs": [],
      "source": [
        "time = df['TIME_VISITANTE'][0]\n",
        "df = insertKm (df, time)\n",
        "df22 = df.copy()"
      ]
    },
    {
      "cell_type": "code",
      "execution_count": null,
      "metadata": {
        "colab": {
          "base_uri": "https://localhost:8080/"
        },
        "id": "u61bkaasVjaD",
        "outputId": "dedd9527-5f99-4d01-c0d5-a3ebc0e123aa"
      },
      "outputs": [
        {
          "data": {
            "text/html": [
              "<div>\n",
              "<style scoped>\n",
              "    .dataframe tbody tr th:only-of-type {\n",
              "        vertical-align: middle;\n",
              "    }\n",
              "\n",
              "    .dataframe tbody tr th {\n",
              "        vertical-align: top;\n",
              "    }\n",
              "\n",
              "    .dataframe thead th {\n",
              "        text-align: right;\n",
              "    }\n",
              "</style>\n",
              "<table border=\"1\" class=\"dataframe\">\n",
              "  <thead>\n",
              "    <tr style=\"text-align: right;\">\n",
              "      <th></th>\n",
              "      <th>TIME_CASA</th>\n",
              "      <th>TIME_VISITANTE</th>\n",
              "      <th>km</th>\n",
              "    </tr>\n",
              "  </thead>\n",
              "  <tbody>\n",
              "    <tr>\n",
              "      <th>0</th>\n",
              "      <td>SÃO PAULO, SP</td>\n",
              "      <td>RIO DE JANEIRO, RJ</td>\n",
              "      <td>870</td>\n",
              "    </tr>\n",
              "    <tr>\n",
              "      <th>1</th>\n",
              "      <td>RIO DE JANEIRO, RJ</td>\n",
              "      <td>RECIFE, PE</td>\n",
              "      <td>0</td>\n",
              "    </tr>\n",
              "    <tr>\n",
              "      <th>2</th>\n",
              "      <td>RIO DE JANEIRO, RJ</td>\n",
              "      <td>SÃO PAULO, SP</td>\n",
              "      <td>0</td>\n",
              "    </tr>\n",
              "    <tr>\n",
              "      <th>3</th>\n",
              "      <td>FORTALEZA, CE</td>\n",
              "      <td>RIO DE JANEIRO, RJ</td>\n",
              "      <td>5170</td>\n",
              "    </tr>\n",
              "    <tr>\n",
              "      <th>4</th>\n",
              "      <td>RIO DE JANEIRO, RJ</td>\n",
              "      <td>PORTO ALEGRE, RS</td>\n",
              "      <td>0</td>\n",
              "    </tr>\n",
              "  </tbody>\n",
              "</table>\n",
              "</div>"
            ],
            "text/plain": [
              "             TIME_CASA       TIME_VISITANTE    km\n",
              "0        SÃO PAULO, SP  RIO DE JANEIRO, RJ    870\n",
              "1  RIO DE JANEIRO, RJ            RECIFE, PE     0\n",
              "2  RIO DE JANEIRO, RJ         SÃO PAULO, SP     0\n",
              "3        FORTALEZA, CE  RIO DE JANEIRO, RJ   5170\n",
              "4  RIO DE JANEIRO, RJ      PORTO ALEGRE, RS     0"
            ]
          },
          "execution_count": 19,
          "metadata": {},
          "output_type": "execute_result"
        }
      ],
      "source": [
        "df22['km'] = mult(df['km'])\n",
        "df22.head(5)"
      ]
    },
    {
      "cell_type": "markdown",
      "metadata": {
        "id": "85tj3ztNaggB"
      },
      "source": [
        "### df3"
      ]
    },
    {
      "cell_type": "code",
      "execution_count": null,
      "metadata": {
        "id": "3TP1b9fgaggC"
      },
      "outputs": [],
      "source": [
        "time = df3['TIME_CASA'][0]\n",
        "df3 = insertKm (df3, time)\n",
        "df33 = df3.copy()"
      ]
    },
    {
      "cell_type": "code",
      "execution_count": null,
      "metadata": {
        "colab": {
          "base_uri": "https://localhost:8080/"
        },
        "id": "3PDIlp3PaggE",
        "outputId": "1fb7a62f-202d-481f-e680-a56cd7681d5b"
      },
      "outputs": [
        {
          "data": {
            "text/html": [
              "<div>\n",
              "<style scoped>\n",
              "    .dataframe tbody tr th:only-of-type {\n",
              "        vertical-align: middle;\n",
              "    }\n",
              "\n",
              "    .dataframe tbody tr th {\n",
              "        vertical-align: top;\n",
              "    }\n",
              "\n",
              "    .dataframe thead th {\n",
              "        text-align: right;\n",
              "    }\n",
              "</style>\n",
              "<table border=\"1\" class=\"dataframe\">\n",
              "  <thead>\n",
              "    <tr style=\"text-align: right;\">\n",
              "      <th></th>\n",
              "      <th>TIME_CASA</th>\n",
              "      <th>TIME_VISITANTE</th>\n",
              "      <th>km</th>\n",
              "    </tr>\n",
              "  </thead>\n",
              "  <tbody>\n",
              "    <tr>\n",
              "      <th>0</th>\n",
              "      <td>GOIÂNIA, GO</td>\n",
              "      <td>SÃO PAULO, SP</td>\n",
              "      <td>0</td>\n",
              "    </tr>\n",
              "    <tr>\n",
              "      <th>1</th>\n",
              "      <td>CURITIBA, PR</td>\n",
              "      <td>GOIÂNIA, GO</td>\n",
              "      <td>2572</td>\n",
              "    </tr>\n",
              "    <tr>\n",
              "      <th>2</th>\n",
              "      <td>SÃO PAULO, SP</td>\n",
              "      <td>GOIÂNIA, GO</td>\n",
              "      <td>1800</td>\n",
              "    </tr>\n",
              "    <tr>\n",
              "      <th>3</th>\n",
              "      <td>GOIÂNIA, GO</td>\n",
              "      <td>FORTALEZA, CE</td>\n",
              "      <td>0</td>\n",
              "    </tr>\n",
              "    <tr>\n",
              "      <th>4</th>\n",
              "      <td>GOIÂNIA, GO</td>\n",
              "      <td>GOIÂNIA, GO</td>\n",
              "      <td>0</td>\n",
              "    </tr>\n",
              "  </tbody>\n",
              "</table>\n",
              "</div>"
            ],
            "text/plain": [
              "       TIME_CASA TIME_VISITANTE    km\n",
              "0    GOIÂNIA, GO  SÃO PAULO, SP     0\n",
              "1  CURITIBA, PR     GOIÂNIA, GO  2572\n",
              "2  SÃO PAULO, SP    GOIÂNIA, GO  1800\n",
              "3    GOIÂNIA, GO  FORTALEZA, CE     0\n",
              "4    GOIÂNIA, GO    GOIÂNIA, GO     0"
            ]
          },
          "execution_count": 21,
          "metadata": {},
          "output_type": "execute_result"
        }
      ],
      "source": [
        "df33['km'] = mult(df3['km'])\n",
        "df33.head(5)"
      ]
    },
    {
      "cell_type": "markdown",
      "metadata": {
        "id": "bj372GuzajNt"
      },
      "source": [
        "### df4"
      ]
    },
    {
      "cell_type": "code",
      "execution_count": null,
      "metadata": {
        "colab": {
          "base_uri": "https://localhost:8080/"
        },
        "id": "dhoYSA54ajNu",
        "outputId": "8fbbd655-f4ae-4598-ef40-7ce4dfa26dd4"
      },
      "outputs": [
        {
          "name": "stdout",
          "output_type": "stream",
          "text": [
            "CURITIBA, PR \n"
          ]
        }
      ],
      "source": [
        "time = df4['TIME_CASA'][0]\n",
        "print(time)\n",
        "df4 = insertKm (df4, time)\n",
        "df44 = df4.copy()"
      ]
    },
    {
      "cell_type": "code",
      "execution_count": null,
      "metadata": {
        "colab": {
          "base_uri": "https://localhost:8080/"
        },
        "id": "tyMedxfMajNv",
        "outputId": "6deffd8c-e88b-47f0-9ea8-406bf59dda70"
      },
      "outputs": [
        {
          "data": {
            "text/html": [
              "<div>\n",
              "<style scoped>\n",
              "    .dataframe tbody tr th:only-of-type {\n",
              "        vertical-align: middle;\n",
              "    }\n",
              "\n",
              "    .dataframe tbody tr th {\n",
              "        vertical-align: top;\n",
              "    }\n",
              "\n",
              "    .dataframe thead th {\n",
              "        text-align: right;\n",
              "    }\n",
              "</style>\n",
              "<table border=\"1\" class=\"dataframe\">\n",
              "  <thead>\n",
              "    <tr style=\"text-align: right;\">\n",
              "      <th></th>\n",
              "      <th>TIME_CASA</th>\n",
              "      <th>TIME_VISITANTE</th>\n",
              "      <th>km</th>\n",
              "    </tr>\n",
              "  </thead>\n",
              "  <tbody>\n",
              "    <tr>\n",
              "      <th>0</th>\n",
              "      <td>CURITIBA, PR</td>\n",
              "      <td>PORTO ALEGRE, RS</td>\n",
              "      <td>0</td>\n",
              "    </tr>\n",
              "    <tr>\n",
              "      <th>1</th>\n",
              "      <td>SALVADOR, BA</td>\n",
              "      <td>CURITIBA, PR</td>\n",
              "      <td>4718</td>\n",
              "    </tr>\n",
              "    <tr>\n",
              "      <th>2</th>\n",
              "      <td>CURITIBA, PR</td>\n",
              "      <td>RIO DE JANEIRO, RJ</td>\n",
              "      <td>0</td>\n",
              "    </tr>\n",
              "    <tr>\n",
              "      <th>3</th>\n",
              "      <td>SÃO PAULO, SP</td>\n",
              "      <td>CURITIBA, PR</td>\n",
              "      <td>806</td>\n",
              "    </tr>\n",
              "    <tr>\n",
              "      <th>4</th>\n",
              "      <td>BRAGANÇA PAULISTA, SP</td>\n",
              "      <td>CURITIBA, PR</td>\n",
              "      <td>964</td>\n",
              "    </tr>\n",
              "  </tbody>\n",
              "</table>\n",
              "</div>"
            ],
            "text/plain": [
              "               TIME_CASA       TIME_VISITANTE    km\n",
              "0          CURITIBA, PR      PORTO ALEGRE, RS     0\n",
              "1           SALVADOR, BA        CURITIBA, PR   4718\n",
              "2          CURITIBA, PR   RIO DE JANEIRO, RJ      0\n",
              "3          SÃO PAULO, SP        CURITIBA, PR    806\n",
              "4  BRAGANÇA PAULISTA, SP        CURITIBA, PR    964"
            ]
          },
          "execution_count": 23,
          "metadata": {},
          "output_type": "execute_result"
        }
      ],
      "source": [
        "df44['km'] = mult(df4['km'])\n",
        "df44.head(5)"
      ]
    },
    {
      "cell_type": "markdown",
      "metadata": {
        "id": "dFMR5UjUakMY"
      },
      "source": [
        "### df5"
      ]
    },
    {
      "cell_type": "code",
      "execution_count": null,
      "metadata": {
        "id": "EgOMC9oUakMZ"
      },
      "outputs": [],
      "source": [
        "time = df5['TIME_CASA'][0]\n",
        "df5 = insertKm (df5, time)\n",
        "df55 = df5.copy()"
      ]
    },
    {
      "cell_type": "code",
      "execution_count": null,
      "metadata": {
        "colab": {
          "base_uri": "https://localhost:8080/"
        },
        "id": "SIqVWUDnakMa",
        "outputId": "45e87bd9-2614-4136-de20-37adaf91f08b"
      },
      "outputs": [
        {
          "data": {
            "text/html": [
              "<div>\n",
              "<style scoped>\n",
              "    .dataframe tbody tr th:only-of-type {\n",
              "        vertical-align: middle;\n",
              "    }\n",
              "\n",
              "    .dataframe tbody tr th {\n",
              "        vertical-align: top;\n",
              "    }\n",
              "\n",
              "    .dataframe thead th {\n",
              "        text-align: right;\n",
              "    }\n",
              "</style>\n",
              "<table border=\"1\" class=\"dataframe\">\n",
              "  <thead>\n",
              "    <tr style=\"text-align: right;\">\n",
              "      <th></th>\n",
              "      <th>TIME_CASA</th>\n",
              "      <th>TIME_VISITANTE</th>\n",
              "      <th>km</th>\n",
              "    </tr>\n",
              "  </thead>\n",
              "  <tbody>\n",
              "    <tr>\n",
              "      <th>0</th>\n",
              "      <td>RIO DE JANEIRO, RJ</td>\n",
              "      <td>SALVADOR, BA</td>\n",
              "      <td>0</td>\n",
              "    </tr>\n",
              "    <tr>\n",
              "      <th>1</th>\n",
              "      <td>BRAGANÇA PAULISTA, SP</td>\n",
              "      <td>RIO DE JANEIRO, RJ</td>\n",
              "      <td>910</td>\n",
              "    </tr>\n",
              "    <tr>\n",
              "      <th>2</th>\n",
              "      <td>FORTALEZA, CE</td>\n",
              "      <td>RIO DE JANEIRO, RJ</td>\n",
              "      <td>5170</td>\n",
              "    </tr>\n",
              "    <tr>\n",
              "      <th>3</th>\n",
              "      <td>RIO DE JANEIRO, RJ</td>\n",
              "      <td>BELO HORIZONTE, MG</td>\n",
              "      <td>0</td>\n",
              "    </tr>\n",
              "    <tr>\n",
              "      <th>4</th>\n",
              "      <td>RIO DE JANEIRO, RJ</td>\n",
              "      <td>RIO DE JANEIRO, RJ</td>\n",
              "      <td>0</td>\n",
              "    </tr>\n",
              "  </tbody>\n",
              "</table>\n",
              "</div>"
            ],
            "text/plain": [
              "               TIME_CASA       TIME_VISITANTE    km\n",
              "0    RIO DE JANEIRO, RJ          SALVADOR, BA     0\n",
              "1  BRAGANÇA PAULISTA, SP  RIO DE JANEIRO, RJ    910\n",
              "2          FORTALEZA, CE  RIO DE JANEIRO, RJ   5170\n",
              "3    RIO DE JANEIRO, RJ    BELO HORIZONTE, MG     0\n",
              "4    RIO DE JANEIRO, RJ   RIO DE JANEIRO, RJ      0"
            ]
          },
          "execution_count": 25,
          "metadata": {},
          "output_type": "execute_result"
        }
      ],
      "source": [
        "df55['km'] = mult(df5['km'])\n",
        "df55.head(5)"
      ]
    },
    {
      "cell_type": "markdown",
      "metadata": {
        "id": "wLNLH35DaX08"
      },
      "source": [
        "### Resultado"
      ]
    },
    {
      "cell_type": "code",
      "execution_count": null,
      "metadata": {
        "colab": {
          "base_uri": "https://localhost:8080/"
        },
        "id": "Uc5wqfnQXJyi",
        "outputId": "461966fd-c124-4bd1-9adc-d059d2d91950"
      },
      "outputs": [
        {
          "name": "stdout",
          "output_type": "stream",
          "text": [
            "38636.0\n",
            "51074.0\n",
            "45084.0\n",
            "38636.0\n"
          ]
        }
      ],
      "source": [
        "print(soma(df22['km']))\n",
        "print(soma(df33['km']))\n",
        "print(soma(df44['km']))\n",
        "print(soma(df55['km']))"
      ]
    },
    {
      "cell_type": "code",
      "execution_count": null,
      "metadata": {
        "id": "9TddF2z4vQqR"
      },
      "outputs": [],
      "source": [
        "df44 = df44.fillna(0)\n",
        "df44"
      ]
    },
    {
      "cell_type": "markdown",
      "metadata": {
        "id": "RWD5nVh1ZlgY"
      },
      "source": [
        "## Gravar csv"
      ]
    },
    {
      "cell_type": "code",
      "execution_count": null,
      "metadata": {
        "id": "bAE5bBlyaq5-"
      },
      "outputs": [],
      "source": [
        "df22.to_csv(path_or_buf='/content/drive/MyDrive/ProjetoSA/2020/VascoDaGama', sep=';', index=False)"
      ]
    },
    {
      "cell_type": "code",
      "execution_count": null,
      "metadata": {
        "id": "dBMr23PjZpjF"
      },
      "outputs": [],
      "source": [
        "df33.to_csv(path_or_buf='/content/drive/MyDrive/ProjetoSA/2020/Goias', sep=';', index=False)"
      ]
    },
    {
      "cell_type": "code",
      "execution_count": null,
      "metadata": {
        "id": "eyCKJaVuZp8v"
      },
      "outputs": [],
      "source": [
        "df44.to_csv(path_or_buf='/content/drive/MyDrive/ProjetoSA/2020/Coritiba', sep=';', index=False)"
      ]
    },
    {
      "cell_type": "code",
      "execution_count": null,
      "metadata": {
        "id": "mrDdNDSnZqKh"
      },
      "outputs": [],
      "source": [
        "df55.to_csv(path_or_buf='/content/drive/MyDrive/ProjetoSA/2020/Botafogo', sep=';', index=False)"
      ]
    }
  ],
  "metadata": {
    "colab": {
      "authorship_tag": "ABX9TyPQKxtDMPx2zBsnO6AQv28D",
      "include_colab_link": true,
      "mount_file_id": "1z78Jr882qr1cLGaN0b1vwfCkct3g5ObB",
      "name": "ProjetoBA",
      "provenance": []
    },
    "kernelspec": {
      "display_name": "Python 3",
      "name": "python3"
    },
    "language_info": {
      "name": "python"
    }
  },
  "nbformat": 4,
  "nbformat_minor": 0
}
